{
 "cells": [
  {
   "cell_type": "markdown",
   "source": [
    "## Get started with your (Colab) jupyter notebook\n"
   ],
   "metadata": {}
  },
  {
   "cell_type": "code",
   "execution_count": null,
   "source": [
    "import networkx as nx\n",
    "import numpy as np\n"
   ],
   "outputs": [],
   "metadata": {}
  },
  {
   "cell_type": "markdown",
   "source": [
    "# access your (gdrive) folder to load additional data sources"
   ],
   "metadata": {}
  },
  {
   "cell_type": "code",
   "execution_count": null,
   "source": [
    "# Run this only in Colab environment\n",
    "# from google.colab import drive\n",
    "# drive.mount('/content/gdrive')\n",
    "# path = '/content/gdrive/My Drive/<your_gdrivefolder>/data/'\n",
    "###############################################################\n",
    "# for local storage\n",
    "path = '../data/'"
   ],
   "outputs": [],
   "metadata": {}
  },
  {
   "cell_type": "markdown",
   "source": [
    "Create your own network by manually define nodes and edges"
   ],
   "metadata": {}
  },
  {
   "cell_type": "code",
   "execution_count": null,
   "source": [
    "number_nodes = 6\n",
    "\n",
    "G = nx.Graph()\n",
    "\n",
    "G.add_nodes_from(range(1,number_nodes))\n",
    "\n",
    "G.add_edge(1,2)\n",
    "G.add_edge(1,4)\n",
    "\n",
    "G.add_edge(2,3)\n",
    "G.add_edge(2,4)\n",
    "G.add_edge(2,5)\n",
    "\n",
    "G.add_edge(3,6)\n",
    "\n",
    "nx.draw(G,\n",
    "        with_labels=True,\n",
    "        node_color='blue',\n",
    "        edge_color='#777777',\n",
    "        node_size=300,\n",
    "        font_color='white',\n",
    "        font_size=12,\n",
    "        )\n",
    "\n",
    "\n"
   ],
   "outputs": [],
   "metadata": {}
  },
  {
   "cell_type": "code",
   "execution_count": null,
   "source": [
    "print('# of nodes in the network: ', G.number_of_nodes())\n",
    "print('# of edges in the network: ', G.number_of_edges())\n"
   ],
   "outputs": [],
   "metadata": {}
  },
  {
   "cell_type": "markdown",
   "source": [
    "Read external edgelist and convert it into network"
   ],
   "metadata": {}
  },
  {
   "cell_type": "code",
   "execution_count": null,
   "source": [
    "G = nx.read_edgelist(path + 'karate_elist.txt')\n",
    "\n",
    "nx.draw(G,\n",
    "        with_labels=True,\n",
    "        node_color='blue',\n",
    "        edge_color='#777777',\n",
    "        node_size=300,\n",
    "        font_color='white',\n",
    "        font_size=12,\n",
    "        )\n",
    "\n"
   ],
   "outputs": [],
   "metadata": {}
  }
 ],
 "metadata": {
  "kernelspec": {
   "name": "python3",
   "display_name": "Python 3.7.0 64-bit"
  },
  "language_info": {
   "codemirror_mode": {
    "name": "ipython",
    "version": 3
   },
   "file_extension": ".py",
   "mimetype": "text/x-python",
   "name": "python",
   "nbconvert_exporter": "python",
   "pygments_lexer": "ipython3",
   "version": "3.7.0"
  },
  "interpreter": {
   "hash": "aee8b7b246df8f9039afb4144a1f6fd8d2ca17a180786b69acc140d282b71a49"
  }
 },
 "nbformat": 4,
 "nbformat_minor": 1
}