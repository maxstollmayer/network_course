{
 "cells": [
  {
   "cell_type": "code",
   "execution_count": 1,
   "metadata": {
    "collapsed": true
   },
   "outputs": [],
   "source": [
    "import matplotlib.pyplot as plt\n",
    "\n",
    "%matplotlib inline\n",
    "import networkx as nx\n",
    "from collections import Counter\n",
    "import itertools\n",
    "import random as rd\n",
    "import numpy as np\n",
    "from scipy.optimize import curve_fit\n",
    "import collections\n",
    "import itertools as it\n",
    "from IPython.display import Image\n",
    "\n"
   ]
  },
  {
   "cell_type": "markdown",
   "metadata": {},
   "source": [
    "## Exercise 7 -- computing the breakdown threshold\n",
    "\n",
    "Perform random failure simulations (see Tutorial 6) with \n",
    "\n",
    "o a Barabasi-Albert networks (#nodes = [100,1000]) and two different numbers of preferentially attached edges\n",
    "\n",
    "o and with the `protein.edgelist.txt` data set.\n",
    "\n",
    "    Interprete briefly what you find for the breakdown threshold in both experiments.\n",
    "\n",
    "o Repeat this experiment for Erdos-Renyi networks but run the simulations 100 times and average over the \n",
    "resulting threshold values.\n",
    "\n",
    "    What is your expectation for this value? Compare it to the numerical result.\n",
    "\n",
    "(12 pts)"
   ]
  },
  {
   "cell_type": "code",
   "execution_count": null,
   "metadata": {},
   "outputs": [],
   "source": []
  }
 ],
 "metadata": {
  "interpreter": {
   "hash": "aee8b7b246df8f9039afb4144a1f6fd8d2ca17a180786b69acc140d282b71a49"
  },
  "kernelspec": {
   "display_name": "Python 3.7.0 64-bit",
   "name": "python3"
  },
  "language_info": {
   "codemirror_mode": {
    "name": "ipython",
    "version": 3
   },
   "file_extension": ".py",
   "mimetype": "text/x-python",
   "name": "python",
   "nbconvert_exporter": "python",
   "pygments_lexer": "ipython3",
   "version": "3.7.0"
  }
 },
 "nbformat": 4,
 "nbformat_minor": 2
}
