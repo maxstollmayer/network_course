{
 "cells": [
  {
   "cell_type": "markdown",
   "metadata": {},
   "source": [
    "# Exercise 2 - Theory"
   ]
  },
  {
   "cell_type": "code",
   "execution_count": 2,
   "metadata": {},
   "outputs": [],
   "source": [
    "import networkx as nx"
   ]
  },
  {
   "cell_type": "markdown",
   "metadata": {},
   "source": [
    "## Problem 1\n",
    "*Discuss briefly advantages and disadvantages of representing a network by an edgelist and an adjacency matrix.*\n",
    "\n",
    "An advantage of the edgelist is the efficient storage requirements if the graph is sparse but if the graph is dense then it becomes inefficent to store.\n",
    "\n",
    "Advantages of the adjacency matrix are the easy to find neighbors of a given node and to find paths of length $k$ on can calculate the $k$-th power of the matrix. Another advantage is the more efficient storage requirements of dense graphs compared to the edgelist. On the other hand the naive implementation for sparse graphs is very inefficent to store."
   ]
  },
  {
   "cell_type": "markdown",
   "metadata": {},
   "source": [
    "## Problem 2\n",
    "*Imagine that your social network has a subnetwork where 14 of your friends together with you are all friends with each other. What is such a subnetwork called? How many edges are contained in the subnetwork?*\n",
    "\n",
    "For $N=15$ nodes we just calculate\n",
    "$$\\sum_{n=1}^{N-1} n = \\frac{N (N-1)}{2} = \\frac{15 \\cdot 14}{2} = 105$$"
   ]
  },
  {
   "cell_type": "markdown",
   "metadata": {},
   "source": [
    "## Problem 3"
   ]
  },
  {
   "cell_type": "code",
   "execution_count": 4,
   "metadata": {},
   "outputs": [
    {
     "data": {
      "image/png": "[encoded data removed]",
      "text/plain": [
       "<Figure size 432x288 with 1 Axes>"
      ]
     },
     "metadata": {},
     "output_type": "display_data"
    }
   ],
   "source": [
    "G = nx.Graph()\n",
    "G.add_nodes_from(range(1,11))\n",
    "G.add_edges_from([(1,2), (2,3), (2,4), (2,5), (3,6), (5,6), (5,7), (7,8), (7,9), (8,9)])\n",
    "nx.draw(G, with_labels=True)"
   ]
  },
  {
   "cell_type": "markdown",
   "metadata": {},
   "source": [
    "*a) Write down the adjacency matrix.*\n",
    "\n",
    "$$\\begin{pmatrix}\n",
    "0 & 1 & 0 & 0 & 0 & 0 & 0 & 0 & 0 & 0 \\\\\n",
    "1 & 0 & 1 & 1 & 1 & 0 & 0 & 0 & 0 & 0 \\\\\n",
    "0 & 1 & 0 & 0 & 0 & 1 & 0 & 0 & 0 & 0 \\\\\n",
    "0 & 1 & 0 & 0 & 0 & 0 & 0 & 0 & 0 & 0 \\\\\n",
    "0 & 1 & 0 & 0 & 0 & 1 & 1 & 0 & 0 & 0 \\\\\n",
    "0 & 0 & 1 & 0 & 1 & 0 & 0 & 0 & 0 & 0 \\\\\n",
    "0 & 0 & 0 & 0 & 1 & 0 & 0 & 1 & 1 & 0 \\\\\n",
    "0 & 0 & 0 & 0 & 0 & 0 & 1 & 0 & 1 & 0 \\\\\n",
    "0 & 0 & 0 & 0 & 0 & 0 & 1 & 1 & 0 & 0 \\\\\n",
    "0 & 0 & 0 & 0 & 0 & 0 & 0 & 0 & 0 & 0\n",
    "\\end{pmatrix}$$"
   ]
  },
  {
   "cell_type": "markdown",
   "metadata": {},
   "source": [
    "*b) Write down the edge list.*\n",
    "\n",
    "(1,2), (2,3), (2,4), (2,5), (3,6), (5,6), (5,7), (7,8), (7,9), (8,9)"
   ]
  },
  {
   "cell_type": "markdown",
   "metadata": {},
   "source": [
    "*c) Draw the degree distribution by hand.*\n",
    "\n",
    "<img src=\"../images/exercise2.jpeg\" width=480>"
   ]
  },
  {
   "cell_type": "markdown",
   "metadata": {},
   "source": [
    "*d) Calculate the clustering coefficient, diameter and density.*\n",
    "\n",
    "The clustering coefficient of node $n$ is $C_n := \\frac{e_n}{\\max_n},$ where $e_n$ is the number of edges between the neighbors of node $n$ and $\\max_n = \\frac{deg(n) \\big(deg(n) - 1\\big)}{2}$ is the maximum number of edges between these neighbors. The only nonzero clustering coefficient of our graph are $C_7 = \\frac{1}{3}, C_8 = 1$ and $C_9 = 1.$ Thus the average clustering coefficient is $\\langle C \\rangle = \\frac{7}{30}$ if we suppose that the clustering coefficient of node 10 is zero.\n",
    "\n",
    "The diameter is the longest of the shortest paths between each node. Since node 10 is isolated the distance to another node is infinite. If we disregard node 10 the distance is clearly $d = 4$ which is for example the distance $d_{1,8}.$\n",
    "\n",
    "The density is $D = \\frac{2 L}{N (N-1)} = \\frac{2}{9}$ for the number of nodes $N=10$ and number of edges $L=10.$"
   ]
  },
  {
   "cell_type": "markdown",
   "metadata": {},
   "source": [
    "*e) Find the number of d=3 paths between 2 and 3.*\n",
    "\n",
    "There are 4 paths from 2 to its neighbors and back then to 3, also the paths 2->3->6->3 and 2->5->6->3 have length 3. This makes 6 such paths."
   ]
  },
  {
   "cell_type": "markdown",
   "metadata": {},
   "source": [
    "*f) Which node pair has the most d=3 paths?*\n",
    "\n",
    "Guess: (2, 5) since they are neighbors and they have the highest degrees."
   ]
  },
  {
   "cell_type": "markdown",
   "metadata": {},
   "source": [
    "## Problem 4\n",
    "*Consider a bipartite network with $N_1$ and $N_2$ nodes in the two sets.*\n",
    "\n",
    "*a) What is the maximum number of edges the network can have?*\n",
    "\n",
    "At most there can be $N_2$ edges from each node in the $N_1$-group to the other wich makes $N_1 \\cdot N_2$ edges. Since the graph is undirected we already counted all edges."
   ]
  },
  {
   "cell_type": "markdown",
   "metadata": {},
   "source": [
    "*b) How many edges cannot occur compared with a non-bipartite network of size $N = N_1 + N_2$?*\n",
    "\n",
    "All the edges between $N_1$-nodes and between $N_2$-nodes are missing, which comes to $\\frac{N_1 (N_1 - 1)}{2} + \\frac{N_2 (N_2 - 1)}{2}.$ Alternatively it can be calculated by $\\frac{(N_1 + N_2)(N_1 + N_2 - 1)}{2} - N_1 N_2.$"
   ]
  }
 ],
 "metadata": {
  "interpreter": {
   "hash": "f8b061f694196eff35bd4262176dcf15c237a1dd69fadc5f75437e24f0ec6257"
  },
  "kernelspec": {
   "display_name": "Python 3.8.12 64-bit ('base': conda)",
   "name": "python3"
  },
  "language_info": {
   "codemirror_mode": {
    "name": "ipython",
    "version": 3
   },
   "file_extension": ".py",
   "mimetype": "text/x-python",
   "name": "python",
   "nbconvert_exporter": "python",
   "pygments_lexer": "ipython3",
   "version": "3.8.12"
  },
  "orig_nbformat": 4
 },
 "nbformat": 4,
 "nbformat_minor": 2
}
