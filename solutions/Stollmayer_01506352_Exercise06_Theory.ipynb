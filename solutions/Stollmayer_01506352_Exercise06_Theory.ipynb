{
 "cells": [
  {
   "cell_type": "markdown",
   "metadata": {},
   "source": [
    "# Exercise 6 - Theory"
   ]
  },
  {
   "cell_type": "markdown",
   "metadata": {},
   "source": [
    "*(1) Consider a Barabási-Albert model with a preferential attachment given by*\n",
    "\n",
    "$$\\Pi(k_i) = \\frac{1}{m_0 + t - 1}.$$\n",
    "\n",
    "*Calculate the degree dynamics $k_i(t)$ and the degree distribution* $p(k).$"
   ]
  },
  {
   "cell_type": "markdown",
   "metadata": {},
   "source": [
    "Suppose that $k_i(t)$ is continuous, then $k_i'(t) = m \\Pi(k_i) = \\frac{m}{m_0 + t - 1}.$ Integrating for $t > t_i$ yields\n",
    "\n",
    "$$\\begin{align*}\n",
    "\\int_{k_i(t_i)}^{k_i(t)} \\mathrm{d} k_i &= \\int_{t_i}^t \\frac{m}{m_0 + t - 1} \\mathrm{d} t \\\\\n",
    "\\iff k_i(t) - k_i(t_i) &= m \\big( \\log(m_0 + t - 1) - \\log(m_0 + t_i - 1) \\big) \\\\\n",
    "\\iff k_i(t) &= m \\bigg( \\log\\Big(\\frac{m_0 + t - 1}{m_0 + t_i - 1}\\Big) + 1 \\bigg),\n",
    "\\end{align*}$$\n",
    "\n",
    "where we used the initial condition that $k_i(t_i) = m$ since the node $i$ was introduced at time $t_i.$ with $m$ links. Now consider the nodes with $k_i(t) \\le k$ which are all the nodes that were introduced after $t_i.$ By rearranging the inequlity above we get the following equivalent statement for such nodes\n",
    "\n",
    "$$t_i \\ge (m_0 + t - 1) e^{1 - \\frac{k}{m}} - m_0 + 1.$$\n",
    "\n",
    "We can now write the cumulative degree distribution as a fraction of all nodes after $t_i$, which is $N(t) - N(t_i),$ and the total number of nodes $N(t)$\n",
    "\n",
    "$$\\begin{align*}\n",
    "P(k) &= \\frac{N(t) - N(t_i)}{N(t)} = \\frac{t - t_i}{m_0 + t - 1} \\\\\n",
    "&\\le \\frac{t - (m_0 + t - 1) e^{1 - \\frac{k}{m}} + m_0 - 1}{m_0 + t - 1} \\\\\n",
    "&= 1 - e^{1 - \\frac{k}{m}}.\n",
    "\\end{align*}$$\n",
    "\n",
    "Last but not least we get the degree distribution by differentiating the cumulative distribution in $k$\n",
    "\n",
    "$$p(k) = \\frac{\\mathrm{d}}{\\mathrm{d}k} P(k) = \\frac{1}{m} e^{1 - \\frac{k}{m}}.$$"
   ]
  },
  {
   "cell_type": "markdown",
   "metadata": {},
   "source": [
    "*(2) Write down the definitions of the betweeness- and closeness-centrality and discuss briefly what they mean.*"
   ]
  },
  {
   "cell_type": "markdown",
   "metadata": {},
   "source": [
    "The **betweenness centrality** of a node $v$ of graph $G$ is defined as the number of times the node $v$ lies on the shortest path between all other nodes\n",
    "\n",
    "$$C_b(v) := \\sum_{s,t \\in G} \\frac{\\sigma_{s,t}(s,t|v)}{\\sigma(s,t)},$$\n",
    "\n",
    "where $\\sigma(s,t)$ is the number of shortest $(s-t)$-paths and $\\sigma(s,t|v)$ is the number of paths passing through node $v$ other than $(s,t).$ If $s=t$ then $\\sigma(s,t) = 1$ and if $v \\in (s,t)$ then $\\sigma(s,t|v) = 0.$ The betweenness centrality measures how often a node is the shortest connection between other nodes. The nodes with the highest betweenness are like \"bridges\" or \"bottlenecks\" in a network.\n",
    "\n",
    "The **closeness centrality** of a node $v$ in a connected graph $G$ is defined as the average length of the shortest paths between the node $v$ and all other nodes normalized with one less than the number of nodes $N$\n",
    "\n",
    "$$C_c(v) := \\frac{N-1}{\\sum_{i=1}^N d(v,u_i)},$$\n",
    "\n",
    "where the $u_i \\in G$ and $d(v,u)$ is the shortest-path distance. The higher the closeness centrality the smaller is the average number of links needed to reach another node. So we can really think of the node with the highest closeness as the center of the graph. As an example such a node would be a very efficient spreader of say a virus.\n",
    "\n",
    "Sources: [Wikipedia: Centrality](https://en.wikipedia.org/wiki/Centrality), [NetworkX: betweenness centrality](https://networkx.org/documentation/stable/reference/algorithms/generated/networkx.algorithms.centrality.betweenness_centrality.html), [NetworkX: closeness centrality](https://networkx.org/documentation/stable/reference/algorithms/generated/networkx.algorithms.centrality.closeness_centrality.html)"
   ]
  }
 ],
 "metadata": {
  "language_info": {
   "name": "python"
  },
  "orig_nbformat": 4
 },
 "nbformat": 4,
 "nbformat_minor": 2
}
