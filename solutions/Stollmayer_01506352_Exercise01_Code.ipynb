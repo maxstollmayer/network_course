{
 "cells": [
  {
   "cell_type": "markdown",
   "metadata": {},
   "source": [
    "# Exercise 1 - Code\n",
    "\n",
    "You can use NetworkX to construct and draw graphs that are undirected or directed, with weighted or unweighted edges. An array of functions to analyze graphs is available. This tutorial takes you through a few basic examples and exercises.\n"
   ]
  },
  {
   "cell_type": "code",
   "execution_count": 7,
   "metadata": {},
   "outputs": [],
   "source": [
    "import networkx as nx\n",
    "path = '../data/'"
   ]
  },
  {
   "cell_type": "markdown",
   "metadata": {},
   "source": [
    "## Problem 1\n",
    "Often in the context of trees, a node with degree 1 is called a *leaf*. Write a function named `get_leaves` that takes a graph as an argument, loops through the nodes, and returns a list of nodes with degree 1.  (4pts)"
   ]
  },
  {
   "cell_type": "code",
   "execution_count": 8,
   "metadata": {
    "scrolled": true
   },
   "outputs": [],
   "source": [
    "def get_leaves(G):\n",
    "    return [node for node in G.nodes if G.degree(node) == 1]"
   ]
  },
  {
   "cell_type": "code",
   "execution_count": 9,
   "metadata": {
    "scrolled": true
   },
   "outputs": [
    {
     "name": "stdout",
     "output_type": "stream",
     "text": [
      "['b', 'c']\n",
      "empty graph: []\n",
      "no leaves: []\n",
      "with leaf: ['d']\n"
     ]
    }
   ],
   "source": [
    "# example Graph\n",
    "G = nx.Graph()\n",
    "G.add_edges_from([\n",
    "        ('a', 'b'),\n",
    "        ('a', 'd'),\n",
    "        ('c', 'd'),\n",
    "    ])\n",
    "\n",
    "print(get_leaves(G))\n",
    "\n",
    "# try another Graph made by yourself\n",
    "G = nx.Graph()\n",
    "\n",
    "print(\"empty graph:\", get_leaves(G))\n",
    "\n",
    "G.add_edges_from([\n",
    "    (\"a\", \"b\"),\n",
    "    (\"a\", \"c\"),\n",
    "    (\"b\", \"c\"),\n",
    "])\n",
    "\n",
    "print(\"no leaves:\", get_leaves(G))\n",
    "\n",
    "G.add_edges_from([(\"d\", \"a\")])\n",
    "\n",
    "print(\"with leaf:\", get_leaves(G))"
   ]
  },
  {
   "cell_type": "markdown",
   "metadata": {},
   "source": [
    "## Problem 2\n",
    "\n",
    "Write a function max_degree that takes a graph as its argument, and returns the name and degree of the node with highest degree. (4 pts)"
   ]
  },
  {
   "cell_type": "code",
   "execution_count": 10,
   "metadata": {
    "scrolled": false
   },
   "outputs": [],
   "source": [
    "def max_degree(G):\n",
    "    max_node = max(G.nodes, key = G.degree)\n",
    "    return max_node, G.degree(max_node)"
   ]
  },
  {
   "cell_type": "code",
   "execution_count": 11,
   "metadata": {
    "scrolled": false
   },
   "outputs": [
    {
     "name": "stdout",
     "output_type": "stream",
     "text": [
      "('Claire', 4)\n"
     ]
    }
   ],
   "source": [
    "SG = nx.read_adjlist(path + 'friends.adjlist')\n",
    "print(max_degree(SG))"
   ]
  },
  {
   "cell_type": "markdown",
   "metadata": {},
   "source": [
    "## Problem 3\n",
    "\n",
    "Write a function `mutual_friends` that takes a graph and two nodes as arguments, and returns a list (or set) of nodes that are linked to both given nodes. For example, in the graph `SG` drawn above,\n",
    "\n",
    "    mutual_friends(SG, 'Alice', 'Claire') == ['Frank']\n",
    "\n",
    "an empty list or set should be returned in the case where two nodes have no mutual friends, e.g. George and Bob in `SG` drawn above. (4 pts)"
   ]
  },
  {
   "cell_type": "code",
   "execution_count": 12,
   "metadata": {
    "scrolled": false
   },
   "outputs": [],
   "source": [
    "def mutual_friends(G, node_1, node_2):\n",
    "    return [node for node in G.neighbors(node_1) if node in G.neighbors(node_2)]"
   ]
  },
  {
   "cell_type": "code",
   "execution_count": 13,
   "metadata": {
    "scrolled": true
   },
   "outputs": [
    {
     "name": "stdout",
     "output_type": "stream",
     "text": [
      "['Frank']\n",
      "[]\n",
      "['Dennis', 'Frank']\n"
     ]
    }
   ],
   "source": [
    "SG = nx.read_adjlist(path + 'friends.adjlist')\n",
    "\n",
    "print(mutual_friends(SG, 'Alice', 'Claire')) \n",
    "print(mutual_friends(SG, 'George', 'Bob'))\n",
    "print(mutual_friends(SG, 'Claire', 'George'))"
   ]
  }
 ],
 "metadata": {
  "interpreter": {
   "hash": "f8b061f694196eff35bd4262176dcf15c237a1dd69fadc5f75437e24f0ec6257"
  },
  "kernelspec": {
   "display_name": "Python 3.8.12 64-bit ('base': conda)",
   "name": "python3"
  },
  "language_info": {
   "codemirror_mode": {
    "name": "ipython",
    "version": 3
   },
   "file_extension": ".py",
   "mimetype": "text/x-python",
   "name": "python",
   "nbconvert_exporter": "python",
   "pygments_lexer": "ipython3",
   "version": "3.8.12"
  }
 },
 "nbformat": 4,
 "nbformat_minor": 1
}
