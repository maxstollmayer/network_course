{
 "cells": [
  {
   "cell_type": "markdown",
   "metadata": {},
   "source": [
    "# Exercise 2 - Code"
   ]
  },
  {
   "cell_type": "code",
   "execution_count": 45,
   "metadata": {},
   "outputs": [],
   "source": [
    "import networkx as nx\n",
    "import numpy as np\n",
    "import pandas as pd\n",
    "from matplotlib import pyplot as plt\n",
    "plt.style.use(\"seaborn-notebook\")\n",
    "\n",
    "path = \"../data/\""
   ]
  },
  {
   "cell_type": "markdown",
   "metadata": {},
   "source": [
    "## Problem 1\n",
    "*Write a function that gets a Graph object as input and returns the average degree and the standard deviation. Test your function with the karate edgelist and plot its degree distribution.*"
   ]
  },
  {
   "cell_type": "code",
   "execution_count": 46,
   "metadata": {},
   "outputs": [],
   "source": [
    "def avg_std_degree(G):\n",
    "    degrees = list(dict(G.degree()).values())\n",
    "    return np.mean(degrees), np.std(degrees)"
   ]
  },
  {
   "cell_type": "code",
   "execution_count": 47,
   "metadata": {},
   "outputs": [
    {
     "name": "stdout",
     "output_type": "stream",
     "text": [
      "average degree: 4.588235294117647, standard deviation: 3.820360677912828\n"
     ]
    },
    {
     "data": {
      "image/png": "[encoded data removed]",
      "text/plain": [
       "<Figure size 576x396 with 1 Axes>"
      ]
     },
     "metadata": {
      "needs_background": "light"
     },
     "output_type": "display_data"
    }
   ],
   "source": [
    "G = nx.read_adjlist(path+\"karate_elist.txt\")\n",
    "degrees = list(dict(G.degree()).values())\n",
    "bins = np.arange(np.min(degrees), np.max(degrees)+1)\n",
    "\n",
    "avg, std = avg_std_degree(G)\n",
    "print(f\"average degree: {avg}, standard deviation: {std}\")\n",
    "\n",
    "plt.hist(degrees, bins=bins, density=True)\n",
    "plt.xticks(bins)\n",
    "plt.xlabel(\"degree\")\n",
    "plt.ylabel(\"frequency\")\n",
    "plt.show()"
   ]
  },
  {
   "cell_type": "markdown",
   "metadata": {},
   "source": [
    "## Problem 2 "
   ]
  },
  {
   "cell_type": "code",
   "execution_count": 48,
   "metadata": {},
   "outputs": [
    {
     "data": {
      "image/png": "[encoded data removed]",
      "text/plain": [
       "<Figure size 576x396 with 1 Axes>"
      ]
     },
     "metadata": {},
     "output_type": "display_data"
    }
   ],
   "source": [
    "G = nx.Graph()\n",
    "G.add_nodes_from(range(1,11))\n",
    "G.add_edges_from([(1,2), (2,3), (2,4), (2,5), (3,6), (5,6), (5,7), (7,8), (7,9), (8,9)])\n",
    "nx.draw(G, with_labels=True)"
   ]
  },
  {
   "cell_type": "markdown",
   "metadata": {},
   "source": [
    "*a) Write the adjacency matrix and the edgelist of the network from theory-problem 3.*"
   ]
  },
  {
   "cell_type": "code",
   "execution_count": 49,
   "metadata": {},
   "outputs": [
    {
     "name": "stdout",
     "output_type": "stream",
     "text": [
      "[[0 1 0 0 0 0 0 0 0 0]\n",
      " [1 0 1 1 1 0 0 0 0 0]\n",
      " [0 1 0 0 0 1 0 0 0 0]\n",
      " [0 1 0 0 0 0 0 0 0 0]\n",
      " [0 1 0 0 0 1 1 0 0 0]\n",
      " [0 0 1 0 1 0 0 0 0 0]\n",
      " [0 0 0 0 1 0 0 1 1 0]\n",
      " [0 0 0 0 0 0 1 0 1 0]\n",
      " [0 0 0 0 0 0 1 1 0 0]\n",
      " [0 0 0 0 0 0 0 0 0 0]]\n",
      "[(1, 2), (2, 3), (2, 4), (2, 5), (3, 6), (5, 6), (5, 7), (7, 8), (7, 9), (8, 9)]\n"
     ]
    }
   ],
   "source": [
    "print(nx.adjacency_matrix(G).todense())\n",
    "print(G.edges)"
   ]
  },
  {
   "cell_type": "markdown",
   "metadata": {},
   "source": [
    "*b) Compute the clustering coefficient, diameter and density.*"
   ]
  },
  {
   "cell_type": "code",
   "execution_count": 50,
   "metadata": {},
   "outputs": [
    {
     "name": "stdout",
     "output_type": "stream",
     "text": [
      "{1: 0, 2: 0.0, 3: 0.0, 4: 0, 5: 0.0, 6: 0.0, 7: 0.3333333333333333, 8: 1.0, 9: 1.0, 10: 0}\n",
      "average clustering coefficient: 0.2333333333333333\n",
      "estimation: 0.2333333333333333\n"
     ]
    }
   ],
   "source": [
    "def clustering_coefficients(G):\n",
    "    coeffs = {}\n",
    "    A = nx.adjacency_matrix(G)**3\n",
    "    for i, node in enumerate(G.nodes):\n",
    "        deg = G.degree(node)\n",
    "        if deg <= 1:\n",
    "            coeffs[node] = 0\n",
    "        else:\n",
    "            coeffs[node] = A[i,i] / deg / (deg-1)\n",
    "    return coeffs\n",
    "\n",
    "coeffs = clustering_coefficients(G)\n",
    "print(coeffs)\n",
    "print(\"average clustering coefficient:\", np.mean(list(coeffs.values())))\n",
    "print(\"estimation:\", nx.average_clustering(G))"
   ]
  },
  {
   "cell_type": "code",
   "execution_count": 51,
   "metadata": {},
   "outputs": [
    {
     "name": "stdout",
     "output_type": "stream",
     "text": [
      "diameter of largest connected component: 4\n"
     ]
    }
   ],
   "source": [
    "LCC = G.subgraph(max(nx.connected_components(G), key=len)).copy()\n",
    "print(\"diameter of largest connected component:\", nx.diameter(LCC))"
   ]
  },
  {
   "cell_type": "code",
   "execution_count": 52,
   "metadata": {},
   "outputs": [
    {
     "name": "stdout",
     "output_type": "stream",
     "text": [
      "density: 0.2222222222222222\n"
     ]
    }
   ],
   "source": [
    "print(\"density:\", nx.density(G))"
   ]
  },
  {
   "cell_type": "markdown",
   "metadata": {},
   "source": [
    "*c) Find the number of d=3 paths between 2 and 3.*"
   ]
  },
  {
   "cell_type": "code",
   "execution_count": 53,
   "metadata": {},
   "outputs": [
    {
     "name": "stdout",
     "output_type": "stream",
     "text": [
      "6 paths between 2 and 3 with length 3\n"
     ]
    }
   ],
   "source": [
    "def d_paths(G, source, target, d):\n",
    "    A = nx.adjacency_matrix(G)**d\n",
    "    index = dict(zip(G.nodes, range(len(G))))\n",
    "    return A[index[source], index[target]]\n",
    "\n",
    "print(d_paths(G, 2, 3, 3), \"paths between 2 and 3 with length 3\")"
   ]
  },
  {
   "cell_type": "markdown",
   "metadata": {},
   "source": [
    "*d) Which node pair has the most d=3 paths?*"
   ]
  },
  {
   "cell_type": "code",
   "execution_count": 54,
   "metadata": {},
   "outputs": [
    {
     "name": "stdout",
     "output_type": "stream",
     "text": [
      "most paths with length 3: (5, 2)\n"
     ]
    }
   ],
   "source": [
    "def max_d_path(G, d):\n",
    "    A = nx.adjacency_matrix(G)**d\n",
    "    i, j = np.unravel_index(np.argmax(A, axis=None), A.shape)\n",
    "    nodes = list(G.nodes)\n",
    "    return nodes[i], nodes[j]\n",
    "\n",
    "print(\"most paths with length 3:\", max_d_path(G, 3))"
   ]
  },
  {
   "cell_type": "markdown",
   "metadata": {},
   "source": [
    "## Problem 3\n",
    "\n",
    "<img src=\"../data/U-Bahnnetz_Wien_2019.png\" width=640>"
   ]
  },
  {
   "cell_type": "code",
   "execution_count": 55,
   "metadata": {},
   "outputs": [],
   "source": [
    "G = nx.Graph()\n",
    "\n",
    "with open(path+\"Vienna_subway.csv\", \"r\") as f:\n",
    "    next(f) # skips first line\n",
    "    for line in f:\n",
    "        start_node = line.strip().split(';')[0]\n",
    "        end_node = line.strip().split(';')[1]\n",
    "        color = line.strip().split(';')[3]\n",
    "        G.add_edge(start_node, end_node, color=color)"
   ]
  },
  {
   "cell_type": "markdown",
   "metadata": {},
   "source": [
    "*a) Find the hub (station with the most connections) computationally.*"
   ]
  },
  {
   "cell_type": "code",
   "execution_count": 57,
   "metadata": {},
   "outputs": [
    {
     "name": "stdout",
     "output_type": "stream",
     "text": [
      "hub: Karlsplatz\n"
     ]
    }
   ],
   "source": [
    "degrees = dict(G.degree)\n",
    "hub = max(degrees, key=lambda key: degrees[key])\n",
    "print(\"hub:\", hub)"
   ]
  },
  {
   "cell_type": "markdown",
   "metadata": {},
   "source": [
    "*b) Let's assume the subway always needs 2.5 minutes between the stations. What is the average traveling time for randomly chosen departure- and destination points? How long would the longest travel take (without detours)?*"
   ]
  },
  {
   "cell_type": "code",
   "execution_count": 58,
   "metadata": {},
   "outputs": [
    {
     "name": "stdout",
     "output_type": "stream",
     "text": [
      "average travel time: 26.676309699137384 minutes\n",
      "longest travel: 70.0 minutes\n"
     ]
    }
   ],
   "source": [
    "speed = 2.5\n",
    "lengths = pd.DataFrame.from_dict(dict(nx.all_pairs_shortest_path_length(G)))\n",
    "max_length = lengths.max().max()\n",
    "\n",
    "print(\"average travel time:\", speed * nx.average_shortest_path_length(G), \"minutes\")\n",
    "print(\"longest travel:\", speed * max_length, \"minutes\")"
   ]
  },
  {
   "cell_type": "markdown",
   "metadata": {},
   "source": [
    "*c) Compute and plot the shortest path length distribution for the subway network.*"
   ]
  },
  {
   "cell_type": "code",
   "execution_count": 59,
   "metadata": {},
   "outputs": [
    {
     "data": {
      "image/png": "[encoded data removed]",
      "text/plain": [
       "<Figure size 576x396 with 1 Axes>"
      ]
     },
     "metadata": {
      "needs_background": "light"
     },
     "output_type": "display_data"
    }
   ],
   "source": [
    "bincounts = [np.bincount(row, minlength=max_length+1) for row in lengths.to_numpy()]\n",
    "freqs = np.sum(bincounts, axis=0) / lengths.sum().sum()\n",
    "plt.bar(np.arange(max_length+1), freqs)\n",
    "plt.xlabel(\"shortest path length\")\n",
    "plt.ylabel(\"frequency\")\n",
    "plt.show()"
   ]
  },
  {
   "cell_type": "markdown",
   "metadata": {},
   "source": [
    "*d) Write your own subway app: Make a function that get the subway network, a start and end station and returns the shortest connection. Try it out with start='Schoenbrunn' and end='Donauinsel'. To avoid running into to many tourists you want to get around 'Stephansdom'. How does that change your result?*"
   ]
  },
  {
   "cell_type": "code",
   "execution_count": 60,
   "metadata": {},
   "outputs": [],
   "source": [
    "def route(G, start_node, end_node, avoid_tourists=False):\n",
    "    G = G.copy()\n",
    "    if avoid_tourists and start_node != \"Stephansplatz\" and end_node != \"Stephansplatz\":\n",
    "        G.remove_node(\"Stephansplatz\")\n",
    "    return nx.shortest_path(G, start_node, end_node)"
   ]
  },
  {
   "cell_type": "code",
   "execution_count": 61,
   "metadata": {},
   "outputs": [
    {
     "data": {
      "text/plain": [
       "['Schoenbrunn',\n",
       " 'Meidling Haupstrasse',\n",
       " 'Laengenfeldgasse',\n",
       " 'Margaretenguertel',\n",
       " 'Pilgramgasse',\n",
       " 'Kettenbrueckengasse',\n",
       " 'Karlsplatz',\n",
       " 'Stephansplatz',\n",
       " 'Schwedenplatz',\n",
       " 'Nestroyplatz',\n",
       " 'Praterstern',\n",
       " 'Vorgartenstrasse',\n",
       " 'Donauinsel']"
      ]
     },
     "execution_count": 61,
     "metadata": {},
     "output_type": "execute_result"
    }
   ],
   "source": [
    "route(G, \"Schoenbrunn\", \"Donauinsel\")"
   ]
  },
  {
   "cell_type": "code",
   "execution_count": 62,
   "metadata": {},
   "outputs": [
    {
     "data": {
      "text/plain": [
       "['Schoenbrunn',\n",
       " 'Meidling Haupstrasse',\n",
       " 'Laengenfeldgasse',\n",
       " 'Margaretenguertel',\n",
       " 'Pilgramgasse',\n",
       " 'Kettenbrueckengasse',\n",
       " 'Karlsplatz',\n",
       " 'Stadtpark',\n",
       " 'Landstrasse',\n",
       " 'Schwedenplatz',\n",
       " 'Nestroyplatz',\n",
       " 'Praterstern',\n",
       " 'Vorgartenstrasse',\n",
       " 'Donauinsel']"
      ]
     },
     "execution_count": 62,
     "metadata": {},
     "output_type": "execute_result"
    }
   ],
   "source": [
    "route(G, \"Schoenbrunn\", \"Donauinsel\", avoid_tourists=True)"
   ]
  },
  {
   "cell_type": "markdown",
   "metadata": {},
   "source": [
    "*e) Perturbations/Vulnerabilities: Suppose your app is connected to a news feed that informs your system about temporally occuring traffic perturbations or station closures. Add a optional argument to your function that get a station to avoid.*"
   ]
  },
  {
   "cell_type": "code",
   "execution_count": 63,
   "metadata": {},
   "outputs": [],
   "source": [
    "def route(G, start_node, end_node, avoid=None):\n",
    "    G = G.copy()\n",
    "    if avoid is not None:\n",
    "        try:\n",
    "            for station in avoid:\n",
    "                G.remove_node(station)\n",
    "        except TypeError:\n",
    "            G.remove_node(avoid)\n",
    "    return nx.shortest_path(G, start_node, end_node)"
   ]
  },
  {
   "cell_type": "code",
   "execution_count": 64,
   "metadata": {},
   "outputs": [
    {
     "data": {
      "text/plain": [
       "['Schoenbrunn',\n",
       " 'Meidling Haupstrasse',\n",
       " 'Laengenfeldgasse',\n",
       " 'Gumpendorfer strasse',\n",
       " 'Westbahnhof',\n",
       " 'Zieglergasse',\n",
       " 'Neubaugasse',\n",
       " 'Volkstheater',\n",
       " 'Rathaus',\n",
       " 'Schottentor',\n",
       " 'Schottenring',\n",
       " 'Taborstrasse',\n",
       " 'Praterstern',\n",
       " 'Vorgartenstrasse',\n",
       " 'Donauinsel']"
      ]
     },
     "execution_count": 64,
     "metadata": {},
     "output_type": "execute_result"
    }
   ],
   "source": [
    "route(G, \"Schoenbrunn\", \"Donauinsel\", avoid=[\"Stephansplatz\", \"Schwedenplatz\"])"
   ]
  }
 ],
 "metadata": {
  "interpreter": {
   "hash": "f8b061f694196eff35bd4262176dcf15c237a1dd69fadc5f75437e24f0ec6257"
  },
  "kernelspec": {
   "display_name": "Python 3.8.12 64-bit ('base': conda)",
   "name": "python3"
  },
  "language_info": {
   "codemirror_mode": {
    "name": "ipython",
    "version": 3
   },
   "file_extension": ".py",
   "mimetype": "text/x-python",
   "name": "python",
   "nbconvert_exporter": "python",
   "pygments_lexer": "ipython3",
   "version": "3.8.12"
  },
  "orig_nbformat": 4
 },
 "nbformat": 4,
 "nbformat_minor": 2
}
