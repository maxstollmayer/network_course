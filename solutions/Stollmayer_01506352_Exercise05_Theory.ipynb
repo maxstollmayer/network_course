{
 "cells": [
  {
   "cell_type": "markdown",
   "metadata": {},
   "source": [
    "# Exercise 5 - Theory\n",
    "\n",
    "*Friendship paradox: Your friends have more friends than you do.*"
   ]
  },
  {
   "cell_type": "markdown",
   "metadata": {},
   "source": [
    "*1. Show that the average number of friends of friends in a social network (i.e. the number\n",
    "of next-nearest connections) is given by*\n",
    "\n",
    "$$\\langle k_{\\mathrm{nn}} \\rangle = \\frac{\\langle k^2 \\rangle}{\\langle k \\rangle}.$$"
   ]
  },
  {
   "cell_type": "markdown",
   "metadata": {},
   "source": [
    "To calculate the average number of friends of friends one could start by choosing an endpoint of a random connection. The probability of choosing a certain node is $\\frac{1}{2L} = \\frac{1}{\\sum_{j=1}^N k_j},$ where $L$ is the number of links in the network. The probability that this is connected to a node $i$ is therefore $p_i = \\frac{k_i}{\\sum_j k_j}.$ Now we can calculate the expected value by noting the number of friends of this node $i$, i.e. its degree, and summing that up with the probability of it being chosen from above.\n",
    "\n",
    "$$\\langle k_{\\mathrm{nn}} \\rangle = \\sum_{i=1}^N k_i p_i = \\sum_i \\frac{k_i^2}{\\sum_j k_j} = \\frac{\\frac{1}{N} \\sum_i k_i^2}{\\frac{1}{N} \\sum_j k_j} = \\frac{\\langle k^2 \\rangle}{\\langle k \\rangle}.$$"
   ]
  },
  {
   "cell_type": "markdown",
   "metadata": {},
   "source": [
    "*2. Calculate an explicit expression for scale-free networks in terms of $\\gamma,\\ k_{\\mathrm{min}}$ and $k_{\\mathrm{max}}.$*"
   ]
  },
  {
   "cell_type": "markdown",
   "metadata": {},
   "source": [
    "From the lecture we know that for a power law distribution $P(k) = (\\gamma - 1) k_{\\mathrm{min}}^{\\gamma - 1} k^{-\\gamma}$ the moments are $\\langle k^m \\rangle = \\frac{\\gamma - 1}{m - \\gamma + 1} k_{\\mathrm{min}}^{\\gamma - 1} (k_{\\mathrm{max}}^{m - \\gamma + 1} - k_{\\mathrm{min}}^{m - \\gamma + 1}).$ Thus for the average number of next-nearest connections we have\n",
    "\n",
    "$$\\langle k_{\\mathrm{nn}} \\rangle = \\frac{\\langle k^2 \\rangle}{\\langle k \\rangle} = \\frac{2 - \\gamma}{3 - \\gamma} \\ \\frac{k_{\\mathrm{max}}^{3 - \\gamma} - k_{\\mathrm{min}}^{3 - \\gamma}}{k_{\\mathrm{max}}^{2 - \\gamma} - k_{\\mathrm{min}}^{2 - \\gamma}}.$$"
   ]
  },
  {
   "cell_type": "markdown",
   "metadata": {},
   "source": [
    "*3. Show the presence of the friendship paradox by considering the limiting cases $\\gamma \\to 2$\n",
    "and* $\\gamma \\to 3.$"
   ]
  },
  {
   "cell_type": "markdown",
   "metadata": {},
   "source": [
    "By using L'Hôpital's rule we get the following limits for $\\gamma \\to 2$\n",
    "\n",
    "$$\\begin{align*}\n",
    "\\langle k_{\\mathrm{nn}} \\rangle &= \\lim_{\\gamma \\to 2} \\frac{(2 - \\gamma) (k_{\\mathrm{max}}^{3 - \\gamma} - k_{\\mathrm{min}}^{3 - \\gamma})}{(3 - \\gamma) (k_{\\mathrm{max}}^{2 - \\gamma} - k_{\\mathrm{min}}^{2 - \\gamma})} = \\lim_{\\gamma \\to 2} \\frac{k_{\\mathrm{max}}^{3 - \\gamma} - k_{\\mathrm{min}}^{3 - \\gamma}}{3 - \\gamma} \\lim_{\\gamma \\to 2} \\frac{2 - \\gamma}{k_{\\mathrm{max}}^{2 - \\gamma} - k_{\\mathrm{min}}^{2 - \\gamma}} \\\\\n",
    "&= (k_{\\mathrm{max}} - k_{\\mathrm{min}}) \\lim_{\\gamma \\to 2} \\frac{-1}{-k_{\\mathrm{max}}^{2 - \\gamma} \\log(k_{\\mathrm{max}}) + k_{\\mathrm{min}}^{2 - \\gamma} \\log(k_{\\mathrm{min}})} = \\frac{k_{\\mathrm{max}} - k_{\\mathrm{min}}}{\\log(k_{\\mathrm{max}}) - \\log(k_{\\mathrm{min}})}\n",
    "\\end{align*}$$\n",
    "\n",
    "$$\\langle k \\rangle = \\lim_{\\gamma \\to 2} \\frac{\\gamma - 1}{2 - \\gamma} k_{\\mathrm{min}}^{\\gamma - 1} (k_{\\mathrm{max}}^{2 - \\gamma} - k_{\\mathrm{min}}^{2 - \\gamma}) = k_{\\mathrm{min}} \\big( \\log(k_{\\mathrm{max}}) - \\log(k_{\\mathrm{min}}) \\big)$$\n",
    "\n",
    "It is easy to see that since $k_{\\mathrm{max}} > k_{\\mathrm{min}} > 0$ we have that $\\langle k_{\\mathrm{nn}} \\rangle > \\langle k \\rangle.$\n",
    "\n",
    "Analogously for $\\gamma \\to 3$ we have that $\\langle k_{\\mathrm{nn}} \\rangle > \\langle k \\rangle$ since\n",
    "\n",
    "$$\\langle k_{\\mathrm{nn}} \\rangle = \\lim_{\\gamma \\to 3} \\frac{(2 - \\gamma) (k_{\\mathrm{max}}^{3 - \\gamma} - k_{\\mathrm{min}}^{3 - \\gamma})}{(3 - \\gamma) (k_{\\mathrm{max}}^{2 - \\gamma} - k_{\\mathrm{min}}^{2 - \\gamma})} = k_{\\mathrm{max}} k_{\\mathrm{min}} \\frac{\\log(k_{\\mathrm{max}}) - \\log(k_{\\mathrm{min}})}{k_{\\mathrm{max}} - k_{\\mathrm{min}}},$$\n",
    "\n",
    "$$\\langle k \\rangle = 2 \\ k_{\\mathrm{min}} \\Big(1 - \\frac{k_{\\mathrm{min}}}{k_{\\mathrm{max}}}\\Big).$$"
   ]
  },
  {
   "cell_type": "markdown",
   "metadata": {},
   "source": [
    "*4. Compare your findings with a random network which degrees follow a Poisson distribution.*"
   ]
  },
  {
   "cell_type": "markdown",
   "metadata": {},
   "source": [
    "For a Poisson distribution $P(k) = \\frac{\\lambda^k e^{-\\lambda}}{k!}$ the second moments is $\\langle k^2 \\rangle = \\langle k \\rangle (\\langle k \\rangle + 1).$ Thus the average number of friends of friends is $\\langle k_{\\mathrm{nn}} \\rangle = \\frac{\\langle k^2 \\rangle}{\\langle k \\rangle} = \\langle k \\rangle + 1$ which also confirms the friendship paradox for random networks but it is much weaker than in scale-free networks. "
   ]
  },
  {
   "cell_type": "markdown",
   "metadata": {},
   "source": [
    "*5. Take the result from 2. and substitute $k_{\\mathrm{max}}$ with the natural cutoff (see largest expected hub) to get an approximate expression depending on the number of nodes $N.$ Discuss how $\\langle k_{\\mathrm{nn}} \\rangle$ behaves for increasing network size.*"
   ]
  },
  {
   "cell_type": "markdown",
   "metadata": {},
   "source": [
    "By substituting $k_{\\mathrm{max}} = k_{\\mathrm{min}} N^{\\frac{1}{\\gamma - 1}}$ we get the following formula for the average next-nearest neighbor degree for $2 < \\gamma < 3.$\n",
    "\n",
    "$$\\langle k_{\\mathrm{nn}} \\rangle = \\frac{2 - \\gamma}{3 - \\gamma} k_{\\mathrm{min}} \\frac{N^{\\frac{3-\\gamma}{\\gamma-1}} - 1}{N^{\\frac{2-\\gamma}{\\gamma-1}} - 1} = \\mathcal{O}(N)$$\n",
    "\n",
    "In the limiting cases we have $\\langle k_{\\mathrm{nn}} \\rangle = k_{\\mathrm{min}} \\frac{N - 1}{\\log(N)}$ for $\\gamma = 2$ and $\\langle k_{\\mathrm{nn}} \\rangle = \\frac{k_{\\mathrm{min}}}{2} \\frac{\\sqrt{N}}{\\sqrt{N} - 1} \\log(N)$ for $\\gamma = 3.$\n",
    "\n",
    "So the average next-nearest neighbor degree grows monotonely in $N$ for all $2 \\le \\gamma \\le 3$ but the slope of growth decreases with increasing $\\gamma.$ For $2 \\le \\gamma < 3 \\ \\langle k_{\\mathrm{nn}} \\rangle$ grows linearly in $N$ but for $\\gamma = 3$ it only grows logarithmically in $N.$"
   ]
  }
 ],
 "metadata": {
  "interpreter": {
   "hash": "f8b061f694196eff35bd4262176dcf15c237a1dd69fadc5f75437e24f0ec6257"
  },
  "kernelspec": {
   "display_name": "Python 3.8.12 64-bit ('base': conda)",
   "language": "python",
   "name": "python3"
  },
  "language_info": {
   "codemirror_mode": {
    "name": "ipython",
    "version": 3
   },
   "file_extension": ".py",
   "mimetype": "text/x-python",
   "name": "python",
   "nbconvert_exporter": "python",
   "pygments_lexer": "ipython3",
   "version": "3.8.12"
  },
  "orig_nbformat": 4
 },
 "nbformat": 4,
 "nbformat_minor": 2
}
